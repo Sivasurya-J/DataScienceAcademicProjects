{
  "cells": [
    {
      "cell_type": "markdown",
      "metadata": {
        "id": "view-in-github",
        "colab_type": "text"
      },
      "source": [
        "<a href=\"https://colab.research.google.com/github/Sivasurya-J/DataScienceAcademicProjects/blob/main/IMDB_Movie_reviews_Sentiment_RNN.ipynb\" target=\"_parent\"><img src=\"https://colab.research.google.com/assets/colab-badge.svg\" alt=\"Open In Colab\"/></a>"
      ]
    },
    {
      "cell_type": "code",
      "execution_count": 1,
      "metadata": {
        "id": "LHJnpr5iTIJQ"
      },
      "outputs": [],
      "source": [
        "from tensorflow.keras.datasets import imdb"
      ]
    },
    {
      "cell_type": "code",
      "execution_count": 2,
      "metadata": {
        "colab": {
          "base_uri": "https://localhost:8080/"
        },
        "id": "nTrTSMgRTTuP",
        "outputId": "dbdca15c-1c47-4f4f-dee7-1f35037e1a03"
      },
      "outputs": [
        {
          "output_type": "stream",
          "name": "stdout",
          "text": [
            "Downloading data from https://storage.googleapis.com/tensorflow/tf-keras-datasets/imdb.npz\n",
            "17464789/17464789 [==============================] - 1s 0us/step\n"
          ]
        }
      ],
      "source": [
        "number_of_words = 10000\n",
        "\n",
        "(X_train, y_train), (X_test, y_test) = imdb.load_data(num_words=number_of_words)"
      ]
    },
    {
      "cell_type": "markdown",
      "metadata": {
        "id": "O7oKYWudTrjK"
      },
      "source": [
        "**Data Exploration**"
      ]
    },
    {
      "cell_type": "code",
      "execution_count": 3,
      "metadata": {
        "colab": {
          "base_uri": "https://localhost:8080/"
        },
        "id": "fH61DlDHTmRE",
        "outputId": "43ba48f2-7d96-460d-be3c-8e4e30fac56f"
      },
      "outputs": [
        {
          "output_type": "execute_result",
          "data": {
            "text/plain": [
              "((25000,), (25000,), (25000,), (25000,))"
            ]
          },
          "metadata": {},
          "execution_count": 3
        }
      ],
      "source": [
        "X_train.shape, y_train.shape, X_test.shape, y_test.shape"
      ]
    },
    {
      "cell_type": "code",
      "execution_count": 4,
      "metadata": {
        "colab": {
          "base_uri": "https://localhost:8080/"
        },
        "id": "YuCs93TlT1r2",
        "outputId": "5f43d9df-ad0b-4075-e5a4-c0f29af209f1"
      },
      "outputs": [
        {
          "output_type": "stream",
          "name": "stdout",
          "text": [
            "Pretty printing has been turned OFF\n"
          ]
        }
      ],
      "source": [
        "%pprint"
      ]
    },
    {
      "cell_type": "code",
      "execution_count": 5,
      "metadata": {
        "colab": {
          "base_uri": "https://localhost:8080/"
        },
        "id": "zRkfHdP4UBDv",
        "outputId": "ea32ebb5-a8f5-4625-b2b0-8424fb3544a7"
      },
      "outputs": [
        {
          "output_type": "execute_result",
          "data": {
            "text/plain": [
              "[1, 307, 5, 1301, 20, 1026, 2511, 87, 2775, 52, 116, 5, 31, 7, 4, 91, 1220, 102, 13, 28, 110, 11, 6, 137, 13, 115, 219, 141, 35, 221, 956, 54, 13, 16, 11, 2714, 61, 322, 423, 12, 38, 76, 59, 1803, 72, 8, 2, 23, 5, 967, 12, 38, 85, 62, 358, 99]"
            ]
          },
          "metadata": {},
          "execution_count": 5
        }
      ],
      "source": [
        "X_train[123]"
      ]
    },
    {
      "cell_type": "markdown",
      "metadata": {
        "id": "-cQ-4pMkUc-0"
      },
      "source": [
        "**Decoding a Movie Review**"
      ]
    },
    {
      "cell_type": "code",
      "execution_count": 6,
      "metadata": {
        "colab": {
          "base_uri": "https://localhost:8080/"
        },
        "id": "r0yuKCThUC2V",
        "outputId": "8c51d231-569a-4bd8-9df5-b0c20b132859"
      },
      "outputs": [
        {
          "output_type": "stream",
          "name": "stdout",
          "text": [
            "Downloading data from https://storage.googleapis.com/tensorflow/tf-keras-datasets/imdb_word_index.json\n",
            "1641221/1641221 [==============================] - 0s 0us/step\n"
          ]
        }
      ],
      "source": [
        "word_to_index = imdb.get_word_index()"
      ]
    },
    {
      "cell_type": "code",
      "execution_count": 7,
      "metadata": {
        "colab": {
          "base_uri": "https://localhost:8080/"
        },
        "id": "Uj77IgP_Um8B",
        "outputId": "ec4a0bc7-4caf-41a1-c91f-b1a94f671546"
      },
      "outputs": [
        {
          "output_type": "execute_result",
          "data": {
            "text/plain": [
              "84"
            ]
          },
          "metadata": {},
          "execution_count": 7
        }
      ],
      "source": [
        "word_to_index['great']"
      ]
    },
    {
      "cell_type": "code",
      "execution_count": 8,
      "metadata": {
        "id": "N5oaTKjrUsTf"
      },
      "outputs": [],
      "source": [
        "index_to_word = {index: word for (word, index) in word_to_index.items()}"
      ]
    },
    {
      "cell_type": "code",
      "execution_count": 9,
      "metadata": {
        "colab": {
          "base_uri": "https://localhost:8080/"
        },
        "id": "tADAQQpDU3wL",
        "outputId": "ae010b60-babc-4488-fbee-dea766b2083e"
      },
      "outputs": [
        {
          "output_type": "execute_result",
          "data": {
            "text/plain": [
              "['the', 'and', 'a', 'of', 'to', 'is', 'br', 'in', 'it', 'i', 'this', 'that', 'was', 'as', 'for', 'with', 'movie', 'but', 'film', 'on', 'not', 'you', 'are', 'his', 'have', 'he', 'be', 'one', 'all', 'at', 'by', 'an', 'they', 'who', 'so', 'from', 'like', 'her', 'or', 'just', 'about', \"it's\", 'out', 'has', 'if', 'some', 'there', 'what', 'good', 'more']"
            ]
          },
          "metadata": {},
          "execution_count": 9
        }
      ],
      "source": [
        "[index_to_word[i] for i in range(1, 51)]"
      ]
    },
    {
      "cell_type": "code",
      "execution_count": 10,
      "metadata": {
        "colab": {
          "base_uri": "https://localhost:8080/",
          "height": 56
        },
        "id": "-vLsvQojVEWD",
        "outputId": "604e91a0-c9e4-4e76-d8ec-ad18bad04194"
      },
      "outputs": [
        {
          "output_type": "execute_result",
          "data": {
            "text/plain": [
              "'? beautiful and touching movie rich colors great settings good acting and one of the most charming movies i have seen in a while i never saw such an interesting setting when i was in china my wife liked it so much she asked me to ? on and rate it so other would enjoy too'"
            ],
            "application/vnd.google.colaboratory.intrinsic+json": {
              "type": "string"
            }
          },
          "metadata": {},
          "execution_count": 10
        }
      ],
      "source": [
        "' '.join([index_to_word.get(i - 3, '?') for i in X_train[123]])"
      ]
    },
    {
      "cell_type": "code",
      "execution_count": 11,
      "metadata": {
        "colab": {
          "base_uri": "https://localhost:8080/"
        },
        "id": "1r3kIPfuVbLf",
        "outputId": "a33ec421-27d8-49f9-bfdb-c7a4a92b0445"
      },
      "outputs": [
        {
          "output_type": "execute_result",
          "data": {
            "text/plain": [
              "1"
            ]
          },
          "metadata": {},
          "execution_count": 11
        }
      ],
      "source": [
        "y_train[123]"
      ]
    },
    {
      "cell_type": "markdown",
      "metadata": {
        "id": "WrCpZbmXVnBO"
      },
      "source": [
        "***Data Preparation***"
      ]
    },
    {
      "cell_type": "code",
      "execution_count": 12,
      "metadata": {
        "id": "D97BQP5DVeXF"
      },
      "outputs": [],
      "source": [
        "words_per_review = 200\n",
        "\n",
        "from tensorflow.keras.preprocessing.sequence import pad_sequences\n",
        "X_train = pad_sequences(X_train, maxlen=words_per_review)"
      ]
    },
    {
      "cell_type": "code",
      "execution_count": 13,
      "metadata": {
        "colab": {
          "base_uri": "https://localhost:8080/"
        },
        "id": "UKrprGd2V4hB",
        "outputId": "ca753c6b-5ad8-44f0-c39e-2044517e8c0b"
      },
      "outputs": [
        {
          "output_type": "execute_result",
          "data": {
            "text/plain": [
              "(25000, 200)"
            ]
          },
          "metadata": {},
          "execution_count": 13
        }
      ],
      "source": [
        "X_train.shape"
      ]
    },
    {
      "cell_type": "code",
      "execution_count": 14,
      "metadata": {
        "colab": {
          "base_uri": "https://localhost:8080/"
        },
        "id": "NKPrhME9V9Wj",
        "outputId": "bcc67372-9000-4e4f-86bc-8b30efd5e8ae"
      },
      "outputs": [
        {
          "output_type": "execute_result",
          "data": {
            "text/plain": [
              "(25000, 200)"
            ]
          },
          "metadata": {},
          "execution_count": 14
        }
      ],
      "source": [
        "X_test = pad_sequences(X_test, maxlen=words_per_review)\n",
        "X_test.shape"
      ]
    },
    {
      "cell_type": "code",
      "execution_count": 15,
      "metadata": {
        "id": "byllJMCbWKKR"
      },
      "outputs": [],
      "source": [
        "from sklearn.model_selection import train_test_split\n",
        "X_test, X_val, y_test, y_val = train_test_split(X_test, y_test, random_state=11, test_size=0.20)"
      ]
    },
    {
      "cell_type": "code",
      "execution_count": 16,
      "metadata": {
        "colab": {
          "base_uri": "https://localhost:8080/"
        },
        "id": "Oy0KcpX0WiQP",
        "outputId": "dc5943c2-906b-4086-fb78-054130d43a82"
      },
      "outputs": [
        {
          "output_type": "execute_result",
          "data": {
            "text/plain": [
              "((20000, 200), (5000, 200))"
            ]
          },
          "metadata": {},
          "execution_count": 16
        }
      ],
      "source": [
        "X_test.shape, X_val.shape"
      ]
    },
    {
      "cell_type": "markdown",
      "metadata": {
        "id": "ZD83YmR_WtbF"
      },
      "source": [
        "**Creating Neural Network**"
      ]
    },
    {
      "cell_type": "code",
      "execution_count": 17,
      "metadata": {
        "id": "TJS5nafIWo_v"
      },
      "outputs": [],
      "source": [
        "from tensorflow.keras.models import Sequential\n",
        "from tensorflow.keras.layers import Dense, LSTM\n",
        "from tensorflow.keras.layers import Embedding\n",
        "\n",
        "rnn=Sequential()\n",
        "rnn.add(Embedding(input_dim=number_of_words, output_dim=128, input_length=words_per_review))\n",
        "# adding LSTM layer\n",
        "rnn.add(LSTM(units=128, dropout=0.2, recurrent_dropout=0.2))\n",
        "rnn.add(Dense(units=1, activation='sigmoid'))"
      ]
    },
    {
      "cell_type": "code",
      "execution_count": 18,
      "metadata": {
        "id": "JO-osW6xYeK0"
      },
      "outputs": [],
      "source": [
        "rnn.compile(optimizer='adam', loss='binary_crossentropy', metrics=['accuracy'])"
      ]
    },
    {
      "cell_type": "code",
      "execution_count": 19,
      "metadata": {
        "colab": {
          "base_uri": "https://localhost:8080/"
        },
        "id": "bSN_NJuUYy6D",
        "outputId": "f05a5434-38e9-42a6-c98d-cc1a15f152d8"
      },
      "outputs": [
        {
          "output_type": "stream",
          "name": "stdout",
          "text": [
            "Model: \"sequential\"\n",
            "_________________________________________________________________\n",
            " Layer (type)                Output Shape              Param #   \n",
            "=================================================================\n",
            " embedding (Embedding)       (None, 200, 128)          1280000   \n",
            "                                                                 \n",
            " lstm (LSTM)                 (None, 128)               131584    \n",
            "                                                                 \n",
            " dense (Dense)               (None, 1)                 129       \n",
            "                                                                 \n",
            "=================================================================\n",
            "Total params: 1,411,713\n",
            "Trainable params: 1,411,713\n",
            "Non-trainable params: 0\n",
            "_________________________________________________________________\n"
          ]
        }
      ],
      "source": [
        "rnn.summary()"
      ]
    },
    {
      "cell_type": "markdown",
      "metadata": {
        "id": "V4WbMIrZY7w4"
      },
      "source": [
        "**Training and Evaluating Model**"
      ]
    },
    {
      "cell_type": "code",
      "execution_count": 20,
      "metadata": {
        "colab": {
          "base_uri": "https://localhost:8080/"
        },
        "id": "BRXhTJ8NY51G",
        "outputId": "e89a3c71-39ed-48cb-812f-1204e38c80f4"
      },
      "outputs": [
        {
          "output_type": "stream",
          "name": "stdout",
          "text": [
            "Epoch 1/10\n",
            "782/782 [==============================] - 556s 707ms/step - loss: 0.4313 - accuracy: 0.7997 - val_loss: 0.3405 - val_accuracy: 0.8565\n",
            "Epoch 2/10\n",
            "782/782 [==============================] - 582s 744ms/step - loss: 0.2710 - accuracy: 0.8921 - val_loss: 0.3393 - val_accuracy: 0.8529\n",
            "Epoch 3/10\n",
            "782/782 [==============================] - 562s 719ms/step - loss: 0.1993 - accuracy: 0.9220 - val_loss: 0.3778 - val_accuracy: 0.8616\n",
            "Epoch 4/10\n",
            "782/782 [==============================] - 561s 717ms/step - loss: 0.1530 - accuracy: 0.9437 - val_loss: 0.4504 - val_accuracy: 0.8587\n",
            "Epoch 5/10\n",
            "782/782 [==============================] - 561s 717ms/step - loss: 0.1782 - accuracy: 0.9352 - val_loss: 0.4328 - val_accuracy: 0.8526\n",
            "Epoch 6/10\n",
            "782/782 [==============================] - 558s 714ms/step - loss: 0.1098 - accuracy: 0.9599 - val_loss: 0.4510 - val_accuracy: 0.8499\n",
            "Epoch 7/10\n",
            "782/782 [==============================] - 565s 723ms/step - loss: 0.0744 - accuracy: 0.9740 - val_loss: 0.5095 - val_accuracy: 0.8476\n",
            "Epoch 8/10\n",
            "782/782 [==============================] - 566s 724ms/step - loss: 0.0682 - accuracy: 0.9773 - val_loss: 0.5633 - val_accuracy: 0.8529\n",
            "Epoch 9/10\n",
            "782/782 [==============================] - 565s 723ms/step - loss: 0.0537 - accuracy: 0.9825 - val_loss: 0.6050 - val_accuracy: 0.8518\n",
            "Epoch 10/10\n",
            "782/782 [==============================] - 561s 718ms/step - loss: 0.0320 - accuracy: 0.9900 - val_loss: 0.6186 - val_accuracy: 0.8399\n"
          ]
        },
        {
          "output_type": "execute_result",
          "data": {
            "text/plain": [
              "<keras.callbacks.History object at 0x7f8c22e1bfd0>"
            ]
          },
          "metadata": {},
          "execution_count": 20
        }
      ],
      "source": [
        "rnn.fit(X_train, y_train, epochs=10, batch_size=32, validation_data=(X_test, y_test))"
      ]
    },
    {
      "cell_type": "code",
      "execution_count": 21,
      "metadata": {
        "id": "kjjHfBOnZSYl",
        "colab": {
          "base_uri": "https://localhost:8080/"
        },
        "outputId": "b6df9f57-4456-4419-a62d-65aa4493ed7e"
      },
      "outputs": [
        {
          "output_type": "stream",
          "name": "stdout",
          "text": [
            "625/625 [==============================] - 51s 81ms/step - loss: 0.6186 - accuracy: 0.8399\n"
          ]
        }
      ],
      "source": [
        "results = rnn.evaluate(X_test, y_test)"
      ]
    },
    {
      "cell_type": "code",
      "execution_count": 21,
      "metadata": {
        "id": "FOPNvLFeZfZN"
      },
      "outputs": [],
      "source": []
    }
  ],
  "metadata": {
    "colab": {
      "provenance": [],
      "authorship_tag": "ABX9TyNlHLVcbo6U0X1OmYp6r2i/",
      "include_colab_link": true
    },
    "kernelspec": {
      "display_name": "Python 3",
      "name": "python3"
    },
    "language_info": {
      "name": "python"
    }
  },
  "nbformat": 4,
  "nbformat_minor": 0
}